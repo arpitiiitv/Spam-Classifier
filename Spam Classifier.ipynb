{
 "cells": [
  {
   "cell_type": "markdown",
   "metadata": {},
   "source": [
    "# <font color='red'> Spam SMS Classifier<font>\n",
    "### Machine learning is so powerful that it is helping us in each possible area and saving precious time. One of the use cases of Machine learning is Spam SMS detection, Using Natural Language Processing we can easily classify Spam and non Spam SMS.\n",
    "# <font color='green'> Download data for spam detection<font>\n",
    "## https://archive.ics.uci.edu/ml/datasets/SMS+Spam+Collection\n",
    "# <font color='red'> Data Description : <font> \n",
    "### The collection is composed by just one text file, where each line has the correct class followed by the raw message. \n",
    "### Ham : Not spam and Spam : Spam\n",
    " A subset of 5572 SMS randomly chosen ham messages of the NUS SMS Corpus (NSC), which is a dataset of about 10,000 legitimate messages collected for research at the Department of Computer Science at the National University of Singapore. The messages largely originate from Singaporeans and mostly from students attending the University. These messages were collected from volunteers who were made aware that their contributions were going to be made publicly available.\n",
    "# <font color='red'> Objective : <font> \n",
    "### Using machine learning model, our model should be able to classify Spam and normal SMS.   "
   ]
  },
  {
   "cell_type": "code",
   "execution_count": 1,
   "metadata": {},
   "outputs": [],
   "source": [
    "# Importing Libraries\n",
    "import pandas as pd\n",
    "import numpy as np\n",
    "import nltk\n",
    "import re\n",
    "from nltk.stem import PorterStemmer\n",
    "from nltk.stem import WordNetLemmatizer\n",
    "from nltk.corpus import stopwords"
   ]
  },
  {
   "cell_type": "code",
   "execution_count": 19,
   "metadata": {},
   "outputs": [
    {
     "data": {
      "text/html": [
       "<div>\n",
       "<style scoped>\n",
       "    .dataframe tbody tr th:only-of-type {\n",
       "        vertical-align: middle;\n",
       "    }\n",
       "\n",
       "    .dataframe tbody tr th {\n",
       "        vertical-align: top;\n",
       "    }\n",
       "\n",
       "    .dataframe thead th {\n",
       "        text-align: right;\n",
       "    }\n",
       "</style>\n",
       "<table border=\"1\" class=\"dataframe\">\n",
       "  <thead>\n",
       "    <tr style=\"text-align: right;\">\n",
       "      <th></th>\n",
       "      <th>label</th>\n",
       "      <th>message</th>\n",
       "    </tr>\n",
       "  </thead>\n",
       "  <tbody>\n",
       "    <tr>\n",
       "      <td>0</td>\n",
       "      <td>ham</td>\n",
       "      <td>Go until jurong point, crazy.. Available only ...</td>\n",
       "    </tr>\n",
       "    <tr>\n",
       "      <td>1</td>\n",
       "      <td>ham</td>\n",
       "      <td>Ok lar... Joking wif u oni...</td>\n",
       "    </tr>\n",
       "    <tr>\n",
       "      <td>2</td>\n",
       "      <td>spam</td>\n",
       "      <td>Free entry in 2 a wkly comp to win FA Cup fina...</td>\n",
       "    </tr>\n",
       "    <tr>\n",
       "      <td>3</td>\n",
       "      <td>ham</td>\n",
       "      <td>U dun say so early hor... U c already then say...</td>\n",
       "    </tr>\n",
       "    <tr>\n",
       "      <td>4</td>\n",
       "      <td>ham</td>\n",
       "      <td>Nah I don't think he goes to usf, he lives aro...</td>\n",
       "    </tr>\n",
       "    <tr>\n",
       "      <td>5</td>\n",
       "      <td>spam</td>\n",
       "      <td>FreeMsg Hey there darling it's been 3 week's n...</td>\n",
       "    </tr>\n",
       "    <tr>\n",
       "      <td>6</td>\n",
       "      <td>ham</td>\n",
       "      <td>Even my brother is not like to speak with me. ...</td>\n",
       "    </tr>\n",
       "    <tr>\n",
       "      <td>7</td>\n",
       "      <td>ham</td>\n",
       "      <td>As per your request 'Melle Melle (Oru Minnamin...</td>\n",
       "    </tr>\n",
       "    <tr>\n",
       "      <td>8</td>\n",
       "      <td>spam</td>\n",
       "      <td>WINNER!! As a valued network customer you have...</td>\n",
       "    </tr>\n",
       "    <tr>\n",
       "      <td>9</td>\n",
       "      <td>spam</td>\n",
       "      <td>Had your mobile 11 months or more? U R entitle...</td>\n",
       "    </tr>\n",
       "  </tbody>\n",
       "</table>\n",
       "</div>"
      ],
      "text/plain": [
       "  label                                            message\n",
       "0   ham  Go until jurong point, crazy.. Available only ...\n",
       "1   ham                      Ok lar... Joking wif u oni...\n",
       "2  spam  Free entry in 2 a wkly comp to win FA Cup fina...\n",
       "3   ham  U dun say so early hor... U c already then say...\n",
       "4   ham  Nah I don't think he goes to usf, he lives aro...\n",
       "5  spam  FreeMsg Hey there darling it's been 3 week's n...\n",
       "6   ham  Even my brother is not like to speak with me. ...\n",
       "7   ham  As per your request 'Melle Melle (Oru Minnamin...\n",
       "8  spam  WINNER!! As a valued network customer you have...\n",
       "9  spam  Had your mobile 11 months or more? U R entitle..."
      ]
     },
     "execution_count": 19,
     "metadata": {},
     "output_type": "execute_result"
    }
   ],
   "source": [
    "sms_data = pd.read_csv('smsspamcollection/SMSSpamCollection',sep='\\t', names=['label','message'])\n",
    "sms_data.head(10)"
   ]
  },
  {
   "cell_type": "markdown",
   "metadata": {},
   "source": [
    "ham means not spam and spam is spam SMS"
   ]
  },
  {
   "cell_type": "code",
   "execution_count": 3,
   "metadata": {},
   "outputs": [
    {
     "name": "stdout",
     "output_type": "stream",
     "text": [
      "We have 5572 SMS\n"
     ]
    }
   ],
   "source": [
    "# Getting Size of data\n",
    "sms_data.shape\n",
    "print(\"We have 5572 SMS\")"
   ]
  },
  {
   "cell_type": "code",
   "execution_count": 4,
   "metadata": {},
   "outputs": [
    {
     "data": {
      "text/plain": [
       "ham     4825\n",
       "spam     747\n",
       "Name: label, dtype: int64"
      ]
     },
     "execution_count": 4,
     "metadata": {},
     "output_type": "execute_result"
    }
   ],
   "source": [
    "# Check if data is balanced or not\n",
    "sms_data['label'].value_counts()"
   ]
  },
  {
   "cell_type": "markdown",
   "metadata": {},
   "source": [
    "<font color='red'> This dataset is imbalanced , because number of sample of class ham is significantly larger than number of sample of class spam. But we have 747 spam, we will be able to classify SMS.<font>"
   ]
  },
  {
   "cell_type": "code",
   "execution_count": 5,
   "metadata": {},
   "outputs": [
    {
     "name": "stdout",
     "output_type": "stream",
     "text": [
      "{'have', 'will', 'now', \"don't\", \"weren't\", 'which', 'himself', 't', \"doesn't\", 'ma', 'm', 'over', 'after', 'nor', 'ain', \"isn't\", 'each', 'just', 'yours', 'll', 'be', 'into', 'again', 'can', 'off', \"mightn't\", 'you', 'only', 'his', 'some', 'we', 'doesn', 'both', 'mustn', 've', \"shan't\", 'wouldn', 'your', 'won', 'weren', 'what', 'very', \"hasn't\", 'so', \"haven't\", \"it's\", 'did', 'those', 'with', 'other', 'it', 'up', 'hadn', 'our', 'by', 'them', 'should', \"shouldn't\", 'i', 'same', 'any', 'had', 'or', 'for', 'here', 'too', 'whom', \"needn't\", \"you'd\", 'than', 'being', 'wasn', 'shan', \"you'll\", 'this', 'd', 're', 'isn', \"that'll\", 'why', 'didn', 'was', 'does', 'the', 'aren', 'am', 'myself', 'these', 'her', 'they', 'out', 'under', \"won't\", 'but', 'if', 'itself', 'against', 'my', 'such', 'him', 'shouldn', 'were', 'are', 'has', 'own', \"should've\", 'yourselves', 'from', 'during', 'ours', 'few', 'most', 'couldn', 'because', 'to', 'yourself', 'no', \"hadn't\", 'who', 'more', 'before', 'theirs', \"you've\", 'until', 'been', \"wasn't\", 'and', 'y', 'how', 'further', 'he', 'as', 'of', 'mightn', 'above', \"wouldn't\", 'o', 'needn', 'is', \"couldn't\", 'through', 'hers', 'all', 'there', \"you're\", 'their', 'a', 'don', 'its', 'having', \"mustn't\", 'an', 'below', 'themselves', 'do', 'while', 'hasn', 'between', 'when', 'then', \"didn't\", 's', 'me', 'down', 'that', 'at', 'ourselves', \"aren't\", \"she's\", 'herself', 'once', 'about', 'not', 'doing', 'on', 'she', 'where', 'in', 'haven'}\n",
      "There are  179  in english\n"
     ]
    }
   ],
   "source": [
    "# making set of stopwords (Those words which do not play significant role in decision making of text processing)\n",
    "stopwords = set(stopwords.words('english'))\n",
    "print(stopwords)\n",
    "print(\"There are \",len(stopwords),\" in english\")"
   ]
  },
  {
   "cell_type": "markdown",
   "metadata": {},
   "source": [
    "# <font color='green'> Text Preprocessing <font>\n",
    "<ul>\n",
    "  <li>Stemming : processing of removing suffix from words to bring into root form, ex: going,gone,goes changes to root word go.</li>\n",
    "  <li>Removing punctuations, take only alphabates.</li>\n",
    "  <li>Convert words into lowercase.</li>\n",
    "    <li>Remove stopwords because they don't play significant role.</li>\n",
    "    <li>Make coupus : list of documents</li>\n",
    "</ul>"
   ]
  },
  {
   "cell_type": "code",
   "execution_count": 6,
   "metadata": {},
   "outputs": [],
   "source": [
    "# intialize stemmer object\n",
    "stemmer = PorterStemmer()\n",
    "corpus = []\n",
    "for i in range(len(sms_data)):\n",
    "    # replace non-alphabates with space\n",
    "    row_data = re.sub('[^a-zA-Z]',\" \",sms_data['message'][i])\n",
    "    # convert words into lowercase\n",
    "    row_data = row_data.lower()\n",
    "    # make list from sentences\n",
    "    row_data_list = row_data.split()\n",
    "    # remove stopwords\n",
    "    important_row_data = [stemmer.stem(word) for word in row_data_list if word not in stopwords]\n",
    "    data = ' '.join(important_row_data)\n",
    "    # append to corpus\n",
    "    corpus.append(data)\n",
    "# print(corpus)"
   ]
  },
  {
   "cell_type": "markdown",
   "metadata": {},
   "source": [
    "# <font color='green'> Using \"Bag of Words\"  method <font>\n",
    "<ul>\n",
    "  <li>After text preprocessing , make differnt dimensions for differnt each words in corpus</li>\n",
    "  <li>If unique words in corpus is d and there are n documents,make a matrix of nxd.</li>\n",
    "  <li>Each sentence will  be represented by a d-dimension vectors.</li>\n",
    "    <li>Matrix will be sparse matrix</li>\n",
    "</ul>\n",
    "    "
   ]
  },
  {
   "cell_type": "code",
   "execution_count": 7,
   "metadata": {},
   "outputs": [
    {
     "name": "stdout",
     "output_type": "stream",
     "text": [
      "(5572, 6296)\n"
     ]
    }
   ],
   "source": [
    "from sklearn.feature_extraction.text import CountVectorizer\n",
    "cv = CountVectorizer()\n",
    "X = cv.fit_transform(corpus).toarray()\n",
    "print(X.shape)"
   ]
  },
  {
   "cell_type": "markdown",
   "metadata": {},
   "source": [
    "There are 5053 different words,but many of them have very less frequency , lets take only top 3000 most frequent words"
   ]
  },
  {
   "cell_type": "code",
   "execution_count": 8,
   "metadata": {},
   "outputs": [
    {
     "name": "stdout",
     "output_type": "stream",
     "text": [
      "Size of X :  (5572, 2500)\n"
     ]
    },
    {
     "data": {
      "text/plain": [
       "array([[0, 0, 0, ..., 0, 0, 0],\n",
       "       [0, 0, 0, ..., 0, 0, 0],\n",
       "       [0, 0, 0, ..., 0, 0, 0],\n",
       "       ...,\n",
       "       [0, 0, 0, ..., 0, 0, 0],\n",
       "       [0, 0, 0, ..., 0, 0, 0],\n",
       "       [0, 0, 0, ..., 0, 0, 0]], dtype=int64)"
      ]
     },
     "execution_count": 8,
     "metadata": {},
     "output_type": "execute_result"
    }
   ],
   "source": [
    "# let's take only top 2500 most frequent words, it will reduce time complexit\n",
    "cv = CountVectorizer(max_features=2500)\n",
    "X = cv.fit_transform(corpus).toarray()\n",
    "print(\"Size of X : \",X.shape)\n",
    "X[0:10]"
   ]
  },
  {
   "cell_type": "code",
   "execution_count": 9,
   "metadata": {},
   "outputs": [],
   "source": [
    "# for data prediction in during deployment\n",
    "import pickle\n",
    "filename = 'cv.pkl'\n",
    "pickle.dump(cv, open(filename, 'wb'))"
   ]
  },
  {
   "cell_type": "markdown",
   "metadata": {},
   "source": [
    "## label have to classes , ham and spam. but machine should be given numeric value,let's convert it into numeric form, 0 ham and 1 for spam"
   ]
  },
  {
   "cell_type": "code",
   "execution_count": 10,
   "metadata": {},
   "outputs": [
    {
     "name": "stdout",
     "output_type": "stream",
     "text": [
      "size of y :  (5572, 1)\n",
      "Converted label :\n",
      "[[0]\n",
      " [0]\n",
      " [1]\n",
      " [0]\n",
      " [0]]\n",
      "Original label :\n",
      "0     ham\n",
      "1     ham\n",
      "2    spam\n",
      "3     ham\n",
      "4     ham\n",
      "Name: label, dtype: object\n"
     ]
    }
   ],
   "source": [
    "y = pd.get_dummies(sms_data['label'],drop_first=True).values\n",
    "print(\"size of y : \",y.shape)\n",
    "print(\"Converted label :\")\n",
    "print(y[:5])\n",
    "print('Original label :')\n",
    "print(sms_data['label'][:5])"
   ]
  },
  {
   "cell_type": "markdown",
   "metadata": {},
   "source": [
    "# <font color='green'> Splitting data into train and test set <font>"
   ]
  },
  {
   "cell_type": "code",
   "execution_count": 11,
   "metadata": {},
   "outputs": [],
   "source": [
    "from sklearn.model_selection import train_test_split\n",
    "X_train,X_test,y_train,y_test = train_test_split(X,y,test_size=0.33,random_state=0)"
   ]
  },
  {
   "cell_type": "markdown",
   "metadata": {},
   "source": [
    "# <font color='green'> Using Naive Bayes classifier <font>"
   ]
  },
  {
   "cell_type": "code",
   "execution_count": 12,
   "metadata": {},
   "outputs": [
    {
     "name": "stderr",
     "output_type": "stream",
     "text": [
      "C:\\Users\\Arpit\\Anaconda3\\lib\\site-packages\\sklearn\\utils\\validation.py:724: DataConversionWarning: A column-vector y was passed when a 1d array was expected. Please change the shape of y to (n_samples, ), for example using ravel().\n",
      "  y = column_or_1d(y, warn=True)\n"
     ]
    }
   ],
   "source": [
    "from sklearn.naive_bayes import MultinomialNB\n",
    "spam_model = MultinomialNB().fit(X_train,y_train)"
   ]
  },
  {
   "cell_type": "markdown",
   "metadata": {},
   "source": [
    "# <font color='green'> Prediction <font>"
   ]
  },
  {
   "cell_type": "code",
   "execution_count": 13,
   "metadata": {},
   "outputs": [],
   "source": [
    "y_pred = spam_model.predict(X_test)"
   ]
  },
  {
   "cell_type": "markdown",
   "metadata": {},
   "source": [
    "# <font color='green'> Analyzing model <font>"
   ]
  },
  {
   "cell_type": "code",
   "execution_count": 14,
   "metadata": {},
   "outputs": [
    {
     "name": "stdout",
     "output_type": "stream",
     "text": [
      "[[1581   16]\n",
      " [  11  231]]\n"
     ]
    }
   ],
   "source": [
    "from sklearn.metrics import confusion_matrix\n",
    "cm = confusion_matrix(y_test,y_pred)\n",
    "print(cm)"
   ]
  },
  {
   "cell_type": "code",
   "execution_count": 15,
   "metadata": {},
   "outputs": [
    {
     "name": "stdout",
     "output_type": "stream",
     "text": [
      "Model achieved  98.532 % accuracy.\n"
     ]
    }
   ],
   "source": [
    "from sklearn.metrics import accuracy_score\n",
    "accuracy = accuracy_score(y_test,y_pred)\n",
    "print(\"Model achieved \",round(accuracy*100,3) ,\"% accuracy.\")"
   ]
  },
  {
   "cell_type": "code",
   "execution_count": 16,
   "metadata": {},
   "outputs": [
    {
     "name": "stdout",
     "output_type": "stream",
     "text": [
      "              precision    recall  f1-score   support\n",
      "\n",
      "           0       0.99      0.99      0.99      1597\n",
      "           1       0.94      0.95      0.94       242\n",
      "\n",
      "    accuracy                           0.99      1839\n",
      "   macro avg       0.96      0.97      0.97      1839\n",
      "weighted avg       0.99      0.99      0.99      1839\n",
      "\n"
     ]
    }
   ],
   "source": [
    "from sklearn.metrics import classification_report\n",
    "print(classification_report(y_test,y_pred))"
   ]
  },
  {
   "cell_type": "code",
   "execution_count": 17,
   "metadata": {},
   "outputs": [],
   "source": [
    "# for data prediction in during deployment\n",
    "filename = 'spam_detecter.pkl'\n",
    "pickle.dump(spam_model, open(filename, 'wb'))"
   ]
  },
  {
   "cell_type": "code",
   "execution_count": null,
   "metadata": {},
   "outputs": [],
   "source": []
  },
  {
   "cell_type": "code",
   "execution_count": null,
   "metadata": {},
   "outputs": [],
   "source": []
  }
 ],
 "metadata": {
  "kernelspec": {
   "display_name": "Python 3",
   "language": "python",
   "name": "python3"
  },
  "language_info": {
   "codemirror_mode": {
    "name": "ipython",
    "version": 3
   },
   "file_extension": ".py",
   "mimetype": "text/x-python",
   "name": "python",
   "nbconvert_exporter": "python",
   "pygments_lexer": "ipython3",
   "version": "3.7.4"
  }
 },
 "nbformat": 4,
 "nbformat_minor": 2
}
